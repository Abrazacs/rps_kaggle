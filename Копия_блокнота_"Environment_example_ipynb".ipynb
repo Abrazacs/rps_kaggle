{
  "nbformat": 4,
  "nbformat_minor": 0,
  "metadata": {
    "colab": {
      "provenance": [],
      "include_colab_link": true
    },
    "kernelspec": {
      "name": "python3",
      "display_name": "Python 3"
    },
    "language_info": {
      "name": "python"
    }
  },
  "cells": [
    {
      "cell_type": "markdown",
      "metadata": {
        "id": "view-in-github",
        "colab_type": "text"
      },
      "source": [
        "<a href=\"https://colab.research.google.com/github/Abrazacs/rps_kaggle/blob/main/%D0%9A%D0%BE%D0%BF%D0%B8%D1%8F_%D0%B1%D0%BB%D0%BE%D0%BA%D0%BD%D0%BE%D1%82%D0%B0_%22Environment_example_ipynb%22.ipynb\" target=\"_parent\"><img src=\"https://colab.research.google.com/assets/colab-badge.svg\" alt=\"Open In Colab\"/></a>"
      ]
    },
    {
      "cell_type": "code",
      "execution_count": 24,
      "metadata": {
        "id": "MXXTuy_o0sjk"
      },
      "outputs": [],
      "source": [
        "!pip install -q -U kaggle_environments"
      ]
    },
    {
      "cell_type": "code",
      "source": [
        "import numpy as np\n",
        "import pandas as pd\n",
        "import random\n",
        "\n",
        "import matplotlib.pyplot as plt\n",
        "import seaborn as sns\n",
        "\n",
        "from kaggle_environments import make, evaluate"
      ],
      "metadata": {
        "id": "yz23vWHD0wcj"
      },
      "execution_count": 25,
      "outputs": []
    },
    {
      "cell_type": "markdown",
      "source": [
        "Опишем поведение агента, всегда играющего \"камень\" - это значение 0"
      ],
      "metadata": {
        "id": "0kuo6IOxiRub"
      }
    },
    {
      "cell_type": "code",
      "source": [
        "%%writefile rock_agent.py\n",
        "\n",
        "#Example of the simple agent\n",
        "#0 - rock\n",
        "#1 - paper\n",
        "#2 - scissors\n",
        "def rock_agent(observation, configuration):\n",
        "    return 0"
      ],
      "metadata": {
        "id": "bqTqV7B92rJ6",
        "colab": {
          "base_uri": "https://localhost:8080/"
        },
        "outputId": "9e0ab540-b213-4ff1-fc2b-98b0f7fab733"
      },
      "execution_count": 26,
      "outputs": [
        {
          "output_type": "stream",
          "name": "stdout",
          "text": [
            "Overwriting rock_agent.py\n"
          ]
        }
      ]
    },
    {
      "cell_type": "markdown",
      "source": [
        "Создаем агента, который всегда выдает играет только \"бумагой\" - 1"
      ],
      "metadata": {
        "id": "P7SSU_VK5ZhG"
      }
    },
    {
      "cell_type": "code",
      "source": [
        "%%writefile papper_agent.py\n",
        "def papper_agent(observation, configuration):\n",
        "    return 1"
      ],
      "metadata": {
        "colab": {
          "base_uri": "https://localhost:8080/"
        },
        "id": "qun6GjK45sGB",
        "outputId": "647efef6-2f51-42db-c01b-24a62dc95161"
      },
      "execution_count": 27,
      "outputs": [
        {
          "output_type": "stream",
          "name": "stdout",
          "text": [
            "Overwriting papper_agent.py\n"
          ]
        }
      ]
    },
    {
      "cell_type": "markdown",
      "source": [
        "Создаем агента, который всегда выдает играет только \"ножницами\" - 2"
      ],
      "metadata": {
        "id": "WwV-NalC524y"
      }
    },
    {
      "cell_type": "code",
      "source": [
        "%%writefile scissors_agent.py\n",
        "def scissors_agent(observation, configuration):\n",
        "    return 2"
      ],
      "metadata": {
        "colab": {
          "base_uri": "https://localhost:8080/"
        },
        "id": "g6J9It0_59vl",
        "outputId": "3e7d202c-9955-4d4d-bca6-873412017129"
      },
      "execution_count": 28,
      "outputs": [
        {
          "output_type": "stream",
          "name": "stdout",
          "text": [
            "Overwriting scissors_agent.py\n"
          ]
        }
      ]
    },
    {
      "cell_type": "markdown",
      "source": [
        "Создаем агента, который использует случайное значение всегда"
      ],
      "metadata": {
        "id": "B4RVsG_f63lX"
      }
    },
    {
      "cell_type": "code",
      "source": [
        "%%writefile random_choose_agent.py\n",
        "def rando_choose_agent(observation, configuration):\n",
        "    return random.randrange(0, 3)"
      ],
      "metadata": {
        "colab": {
          "base_uri": "https://localhost:8080/"
        },
        "id": "jED_SCFQ7AH2",
        "outputId": "1c795c96-6811-42f2-aa59-ffb8e73d86e2"
      },
      "execution_count": 29,
      "outputs": [
        {
          "output_type": "stream",
          "name": "stdout",
          "text": [
            "Overwriting random_choose_agent.py\n"
          ]
        }
      ]
    },
    {
      "cell_type": "markdown",
      "source": [
        "Попробуем теперь использовать информацию о прошлых действиях противника. Опишем агента, который производит то же самое действие, что и оппонент на прошлом ходу"
      ],
      "metadata": {
        "id": "et1J5hUGigeh"
      }
    },
    {
      "cell_type": "code",
      "source": [
        "%%writefile copy_opponent.py\n",
        "#Example\n",
        "def copy_opponent(observation, configuration):\n",
        "    #in case we have information about opponent last move\n",
        "    if observation.step > 0:\n",
        "        return observation.lastOpponentAction\n",
        "    #initial step\n",
        "    else:\n",
        "        return random.randrange(0, 3)"
      ],
      "metadata": {
        "id": "7l6Ttw6qi0jk",
        "colab": {
          "base_uri": "https://localhost:8080/"
        },
        "outputId": "307d7bcd-3d30-4145-d3d7-6e2c9870a71b"
      },
      "execution_count": 30,
      "outputs": [
        {
          "output_type": "stream",
          "name": "stdout",
          "text": [
            "Overwriting copy_opponent.py\n"
          ]
        }
      ]
    },
    {
      "cell_type": "markdown",
      "source": [
        "Создаем агента, который делает выбор последовательно камень -> ниожницы -> бумага -> камень и т.д."
      ],
      "metadata": {
        "id": "8QUIf89R8l8h"
      }
    },
    {
      "cell_type": "code",
      "source": [
        "%%writefile step_by_step_agent.py\n",
        "\n",
        "def step_by_step(observation, configuration):\n",
        "  #просто берем остаток от деления на 3, полученное число и будет нашим ходом\n",
        "  return observation.step % 3\n"
      ],
      "metadata": {
        "colab": {
          "base_uri": "https://localhost:8080/"
        },
        "id": "MHZQe2fd8tBj",
        "outputId": "0483e93b-a20a-405d-bf25-6806662d0db4"
      },
      "execution_count": 31,
      "outputs": [
        {
          "output_type": "stream",
          "name": "stdout",
          "text": [
            "Overwriting step_by_step_agent.py\n"
          ]
        }
      ]
    },
    {
      "cell_type": "markdown",
      "source": [
        "Создаем агента, который выбирает контр пик к последнему действию оппонента"
      ],
      "metadata": {
        "id": "R7lusRc-jm8m"
      }
    },
    {
      "cell_type": "code",
      "source": [
        "%%writefile counter_pick_agent.py\n",
        "\n",
        "#в соответствии с rps.json lastOpponentAction - это число от 0 до 4. Агент будет выбирать контр пик основываясь на последнем ходе оппонента.\n",
        "#Т.к.контр пик на 1 больше предыдущего выбора оппонента, то достаточно к последнему выбору оппонента прибавлять 1 и получи искомое значение,\n",
        "#а если перевалим за 2, то конрт пик = 0\n",
        "\n",
        "def counter_pick(observation, configuration):\n",
        "  counter_pick = 0 # если у противника не было еще ходов, то выбираем 0 по дефолту\n",
        "  if observation.step > 0:\n",
        "    counter_pick = observation.lastOpponentAction + 1\n",
        "  if counter_pick > 2:\n",
        "    counter_pick = 0\n",
        "  return counter_pick"
      ],
      "metadata": {
        "colab": {
          "base_uri": "https://localhost:8080/"
        },
        "id": "FjvbbNw6ewRS",
        "outputId": "03b3571a-f08b-409f-bf59-8a2c2540ae0e"
      },
      "execution_count": 32,
      "outputs": [
        {
          "output_type": "stream",
          "name": "stdout",
          "text": [
            "Overwriting counter_pick_agent.py\n"
          ]
        }
      ]
    },
    {
      "cell_type": "markdown",
      "source": [
        "Создаем агента, который выбирает ход, приводящий к проигрышу, по последнему действию оппонента"
      ],
      "metadata": {
        "id": "Lz91VL7Nk9xc"
      }
    },
    {
      "cell_type": "code",
      "source": [
        "%%writefile loose_pick_agent.py\n",
        "\n",
        "def loose_pick(observation, configuration):\n",
        "  loose_pick = 0 # если у противника не было еще ходов, то выбираем 0 по дефолту\n",
        "  if observation.step > 0:\n",
        "    loose_pick = observation.lastOpponentAction + 2\n",
        "  # В случае, если оппонент выбрал на прошлом ходу бумагу или ножницы, то наш выбор будет равен 3 или 4,\n",
        "  # соответсвенно в данном случае надо брать остаток от деления на 3 (получим 0 - камень или 1 - бумага)\n",
        "  if loose_pick > 2:\n",
        "    loose_pick = loose_pick % 3\n",
        "  return loose_pick"
      ],
      "metadata": {
        "colab": {
          "base_uri": "https://localhost:8080/"
        },
        "id": "AxFAM4MSj-kb",
        "outputId": "8642b546-3140-47a1-894b-2a2e36ea7841"
      },
      "execution_count": 33,
      "outputs": [
        {
          "output_type": "stream",
          "name": "stdout",
          "text": [
            "Overwriting loose_pick_agent.py\n"
          ]
        }
      ]
    },
    {
      "cell_type": "markdown",
      "source": [
        "Создаем агента, который никогда не ходит камнем"
      ],
      "metadata": {
        "id": "hAqN38vKqck8"
      }
    },
    {
      "cell_type": "code",
      "source": [
        "%%writefile not_rock_agent.py\n",
        "\n",
        "def not_rock_agent(observation, configuration):\n",
        "  return random.randrange(1, 3)"
      ],
      "metadata": {
        "colab": {
          "base_uri": "https://localhost:8080/"
        },
        "id": "Hmu1eNQMqa01",
        "outputId": "03715935-1d8d-4cff-c97f-9af1abe80c04"
      },
      "execution_count": 34,
      "outputs": [
        {
          "output_type": "stream",
          "name": "stdout",
          "text": [
            "Overwriting not_rock_agent.py\n"
          ]
        }
      ]
    },
    {
      "cell_type": "markdown",
      "source": [
        "Создаем агента, который никогда не ходит бумагой"
      ],
      "metadata": {
        "id": "nN9-I4FtrK5f"
      }
    },
    {
      "cell_type": "code",
      "source": [
        "%%writefile not_papper_agent.py\n",
        "def not_papper_agent(observation, configuration):\n",
        "  # единица никогда не будет выбрана, т.к. шаг 2\n",
        "  return random.randrange(0, 3, 2)\n"
      ],
      "metadata": {
        "colab": {
          "base_uri": "https://localhost:8080/"
        },
        "id": "xDCZN4A1rGV-",
        "outputId": "aa087607-7f30-4a54-d681-3cb8a97a257a"
      },
      "execution_count": 35,
      "outputs": [
        {
          "output_type": "stream",
          "name": "stdout",
          "text": [
            "Overwriting not_papper_agent.py\n"
          ]
        }
      ]
    },
    {
      "cell_type": "markdown",
      "source": [
        "Создаем агента, который никогда не ходит ножницами"
      ],
      "metadata": {
        "id": "Uk2xajX5sVGs"
      }
    },
    {
      "cell_type": "code",
      "source": [
        "%%writefile not_scissors_agent.py\n",
        "\n",
        "def not_scissors_agent(observation, configuration):\n",
        "  return random.randrange(0, 2)"
      ],
      "metadata": {
        "colab": {
          "base_uri": "https://localhost:8080/"
        },
        "id": "CA_MQwZ7sbwA",
        "outputId": "91328d43-389c-4493-e060-1f78d760c61c"
      },
      "execution_count": 36,
      "outputs": [
        {
          "output_type": "stream",
          "name": "stdout",
          "text": [
            "Overwriting not_scissors_agent.py\n"
          ]
        }
      ]
    },
    {
      "cell_type": "markdown",
      "source": [
        "Агент, который случайно выбирает шаг, но так, чтобы разница между его самым частым выбором и самым редким не превышала 3"
      ],
      "metadata": {
        "id": "3ipAZdRjwP7X"
      }
    },
    {
      "cell_type": "code",
      "source": [
        "%%writefile random_v1_agent.py\n",
        "\n",
        "steps_history = {0:0,1:0,2:0}\n",
        "\n",
        "def random_v1_agent(observation, configuration):\n",
        "    global steps_history\n",
        "    min_val = min(steps_history.values()) # смотрим минимальное значение\n",
        "    max_val = max(steps_history.values()) # смотрим максимальное значание\n",
        "    if max_val - min_val > 3:\n",
        "        for i in steps_history:\n",
        "            if steps_history[i] == min_val: # если разница больше 3, то ищем самый редкий выбор и возвращаем его, при этом увеличиваем кол-во его выборов\n",
        "                steps_history[i] += 1\n",
        "                return i\n",
        "    else:\n",
        "        result =random.randrange(0,3) # если разница между min_val и max_val не больше 3, то делаем случайный выбор\n",
        "        steps_history[result] += 1\n",
        "        return result\n"
      ],
      "metadata": {
        "colab": {
          "base_uri": "https://localhost:8080/"
        },
        "id": "MuLo9m8Awcme",
        "outputId": "5388ef20-c98a-4093-85a8-c27548da0be7"
      },
      "execution_count": 37,
      "outputs": [
        {
          "output_type": "stream",
          "name": "stdout",
          "text": [
            "Overwriting random_v1_agent.py\n"
          ]
        }
      ]
    },
    {
      "cell_type": "markdown",
      "source": [
        "Агент, который пытается пердугадать ход исходя и самого частого хода оппонента"
      ],
      "metadata": {
        "id": "9sFE04RzLJ8y"
      }
    },
    {
      "cell_type": "code",
      "source": [
        "%%writefile enemy_common_pick_agent.py\n",
        "\n",
        "enemy_picks = {\n",
        "    0:0,\n",
        "    1:0,\n",
        "    2:0,\n",
        "}\n",
        "\n",
        "def enemy_common_pick_agent(observation, configuration):\n",
        "  global enemy_picks\n",
        "\n",
        "  # Если это не первый шаг, то заполняем статистику по шагам оппонента\n",
        "  if observation.step > 0:\n",
        "    last_action = observation.lastOpponentAction\n",
        "    enemy_picks[last_action] += 1\n",
        "\n",
        "  # получаем самый частый выбор опоненат, если есть с одинаковой частотой выбора, то берем первый попавшийся.\n",
        "  common_pick = next(filter(lambda x: enemy_picks[x] == max(enemy_picks.values()), enemy_picks.keys()))\n",
        "  counter_pick = common_pick+1\n",
        "  return 0 if counter_pick > 2 else counter_pick"
      ],
      "metadata": {
        "colab": {
          "base_uri": "https://localhost:8080/"
        },
        "id": "YCM4rmwXLIeh",
        "outputId": "163dc1a8-f975-4322-ae4e-7ea8d7d55487"
      },
      "execution_count": 38,
      "outputs": [
        {
          "output_type": "stream",
          "name": "stdout",
          "text": [
            "Overwriting enemy_common_pick_agent.py\n"
          ]
        }
      ]
    },
    {
      "cell_type": "markdown",
      "source": [
        "Будем исходить из того, что выбор камня, ножницы или бумаги являются равновероятностными событиями. В данном случае наш агент будет выбирать контр пик к действию, которое наш оппонент выбирал реже всего, т.к. вероятность его наступления в этом случае должна быть самой большой."
      ],
      "metadata": {
        "id": "pdQy8cXiPSuY"
      }
    },
    {
      "cell_type": "code",
      "source": [
        "%%writefile uncomon_enemy_action_agent.py\n",
        "\n",
        "statistics = {\n",
        "    0:0,\n",
        "    1:0,\n",
        "    2:0,\n",
        "}\n",
        "\n",
        "def uncomon_enemy_action_agent(observation, configuration):\n",
        "  global statistics\n",
        "\n",
        "  # Если это не первый шаг, то заполняем статистику по шагам оппонента\n",
        "  if observation.step > 0:\n",
        "    last_action = observation.lastOpponentAction\n",
        "    statistics[last_action] += 1\n",
        "\n",
        "  # получаем самый редкий выбор опоненат, если есть с одинаковой частотой выбора, то берем первый попавшийся.\n",
        "  uncommon_pick = next(filter(lambda x: enemy_picks[x] == min(enemy_picks.values()), enemy_picks.keys()))\n",
        "  counter_pick = uncommon_pick+1\n",
        "  return 0 if counter_pick > 2 else counter_pick\n"
      ],
      "metadata": {
        "colab": {
          "base_uri": "https://localhost:8080/"
        },
        "id": "Gnw315uoPxxR",
        "outputId": "9524d53c-fe6c-4d77-bfb6-f463a97e36e9"
      },
      "execution_count": 39,
      "outputs": [
        {
          "output_type": "stream",
          "name": "stdout",
          "text": [
            "Overwriting uncomon_enemy_action_agent.py\n"
          ]
        }
      ]
    },
    {
      "cell_type": "markdown",
      "source": [
        "Турнир, каждый играет со всеми:\n"
      ],
      "metadata": {
        "id": "Pkk6UpgZH185"
      }
    },
    {
      "cell_type": "code",
      "source": [
        "agents_lst = [\"rock_agent.py\",\n",
        "              \"scissors_agent.py\",\n",
        "              \"copy_opponent.py\",\n",
        "              \"step_by_step_agent.py\",\n",
        "              \"counter_pick_agent.py\",\n",
        "              \"papper_agent.py\",\n",
        "              \"random_choose_agent.py\",\n",
        "              \"loose_pick_agent.py\",\n",
        "              \"not_rock_agent.py\",\n",
        "              \"not_papper_agent.py\",\n",
        "              \"not_scissors_agent.py\",\n",
        "              \"random_v1_agent.py\",\n",
        "              \"enemy_common_pick_agent.py\",\n",
        "              \"uncomon_enemy_action_agent.py\"]\n",
        "\n",
        "for agent in agents_lst:\n",
        "  for second_agent in agents_lst:\n",
        "    if agent != second_agent:\n",
        "      print(f\"Играет {agent} и {second_agent}\")\n",
        "      print(\"Результат:\", evaluate(\"rps\",[agent, second_agent], configuration={\"episodeSteps\": 100}))"
      ],
      "metadata": {
        "colab": {
          "base_uri": "https://localhost:8080/"
        },
        "id": "1SSQmvy7H5FG",
        "outputId": "16c0bab4-7d2d-46a8-ab40-93345cde67b6"
      },
      "execution_count": 40,
      "outputs": [
        {
          "output_type": "stream",
          "name": "stdout",
          "text": [
            "Играет rock_agent.py и scissors_agent.py\n",
            "Результат: [[99.0, -99.0]]\n",
            "Играет rock_agent.py и copy_opponent.py\n",
            "Результат: [[1, None]]\n",
            "Играет rock_agent.py и step_by_step_agent.py\n",
            "Результат: [[0, 0]]\n",
            "Играет rock_agent.py и counter_pick_agent.py\n",
            "Результат: [[-98.0, 98.0]]\n",
            "Играет rock_agent.py и papper_agent.py\n",
            "Результат: [[-99.0, 99.0]]\n",
            "Играет rock_agent.py и random_choose_agent.py\n",
            "Результат: [[1, None]]\n",
            "Играет rock_agent.py и loose_pick_agent.py\n",
            "Результат: [[98.0, -98.0]]\n",
            "Играет rock_agent.py и not_rock_agent.py\n",
            "Результат: [[1, None]]\n",
            "Играет rock_agent.py и not_papper_agent.py\n",
            "Результат: [[1, None]]\n",
            "Играет rock_agent.py и not_scissors_agent.py\n",
            "Результат: [[1, None]]\n",
            "Играет rock_agent.py и random_v1_agent.py\n",
            "Результат: [[1, None]]\n",
            "Играет rock_agent.py и enemy_common_pick_agent.py\n",
            "Результат: [[-99.0, 99.0]]\n",
            "Играет rock_agent.py и uncomon_enemy_action_agent.py\n",
            "Результат: [[1, None]]\n",
            "Играет scissors_agent.py и rock_agent.py\n",
            "Результат: [[-99.0, 99.0]]\n",
            "Играет scissors_agent.py и copy_opponent.py\n",
            "Результат: [[1, None]]\n",
            "Играет scissors_agent.py и step_by_step_agent.py\n",
            "Результат: [[0, 0]]\n",
            "Играет scissors_agent.py и counter_pick_agent.py\n",
            "Результат: [[-99.0, 99.0]]\n",
            "Играет scissors_agent.py и papper_agent.py\n",
            "Результат: [[99.0, -99.0]]\n",
            "Играет scissors_agent.py и random_choose_agent.py\n",
            "Результат: [[1, None]]\n",
            "Играет scissors_agent.py и loose_pick_agent.py\n",
            "Результат: [[97.0, -97.0]]\n",
            "Играет scissors_agent.py и not_rock_agent.py\n",
            "Результат: [[1, None]]\n",
            "Играет scissors_agent.py и not_papper_agent.py\n",
            "Результат: [[1, None]]\n",
            "Играет scissors_agent.py и not_scissors_agent.py\n",
            "Результат: [[1, None]]\n",
            "Играет scissors_agent.py и random_v1_agent.py\n",
            "Результат: [[1, None]]\n",
            "Играет scissors_agent.py и enemy_common_pick_agent.py\n",
            "Результат: [[-97.0, 97.0]]\n",
            "Играет scissors_agent.py и uncomon_enemy_action_agent.py\n",
            "Результат: [[1, None]]\n",
            "Играет copy_opponent.py и rock_agent.py\n",
            "Результат: [[None, 1]]\n",
            "Играет copy_opponent.py и scissors_agent.py\n",
            "Результат: [[None, 1]]\n",
            "Играет copy_opponent.py и step_by_step_agent.py\n",
            "Результат: [[None, 1]]\n",
            "Играет copy_opponent.py и counter_pick_agent.py\n",
            "Результат: [[None, 1]]\n",
            "Играет copy_opponent.py и papper_agent.py\n",
            "Результат: [[None, 1]]\n",
            "Играет copy_opponent.py и random_choose_agent.py\n",
            "Результат: [[None, None]]\n",
            "Играет copy_opponent.py и loose_pick_agent.py\n",
            "Результат: [[None, 1]]\n",
            "Играет copy_opponent.py и not_rock_agent.py\n",
            "Результат: [[None, None]]\n",
            "Играет copy_opponent.py и not_papper_agent.py\n",
            "Результат: [[None, None]]\n",
            "Играет copy_opponent.py и not_scissors_agent.py\n",
            "Результат: [[None, None]]\n",
            "Играет copy_opponent.py и random_v1_agent.py\n",
            "Результат: [[None, None]]\n",
            "Играет copy_opponent.py и enemy_common_pick_agent.py\n",
            "Результат: [[None, 1]]\n",
            "Играет copy_opponent.py и uncomon_enemy_action_agent.py\n",
            "Результат: [[None, None]]\n",
            "Играет step_by_step_agent.py и rock_agent.py\n",
            "Результат: [[0, 0]]\n",
            "Играет step_by_step_agent.py и scissors_agent.py\n",
            "Результат: [[0, 0]]\n",
            "Играет step_by_step_agent.py и copy_opponent.py\n",
            "Результат: [[1, None]]\n",
            "Играет step_by_step_agent.py и counter_pick_agent.py\n",
            "Результат: [[0, 0]]\n",
            "Играет step_by_step_agent.py и papper_agent.py\n",
            "Результат: [[0, 0]]\n",
            "Играет step_by_step_agent.py и random_choose_agent.py\n",
            "Результат: [[1, None]]\n",
            "Играет step_by_step_agent.py и loose_pick_agent.py\n",
            "Результат: [[-98.0, 98.0]]\n",
            "Играет step_by_step_agent.py и not_rock_agent.py\n",
            "Результат: [[1, None]]\n",
            "Играет step_by_step_agent.py и not_papper_agent.py\n",
            "Результат: [[1, None]]\n",
            "Играет step_by_step_agent.py и not_scissors_agent.py\n",
            "Результат: [[1, None]]\n",
            "Играет step_by_step_agent.py и random_v1_agent.py\n",
            "Результат: [[1, None]]\n",
            "Играет step_by_step_agent.py и enemy_common_pick_agent.py\n",
            "Результат: [[0, 0]]\n",
            "Играет step_by_step_agent.py и uncomon_enemy_action_agent.py\n",
            "Результат: [[1, None]]\n",
            "Играет counter_pick_agent.py и rock_agent.py\n",
            "Результат: [[98.0, -98.0]]\n",
            "Играет counter_pick_agent.py и scissors_agent.py\n",
            "Результат: [[99.0, -99.0]]\n",
            "Играет counter_pick_agent.py и copy_opponent.py\n",
            "Результат: [[1, None]]\n",
            "Играет counter_pick_agent.py и step_by_step_agent.py\n",
            "Результат: [[0, 0]]\n",
            "Играет counter_pick_agent.py и papper_agent.py\n",
            "Результат: [[97.0, -97.0]]\n",
            "Играет counter_pick_agent.py и random_choose_agent.py\n",
            "Результат: [[1, None]]\n",
            "Играет counter_pick_agent.py и loose_pick_agent.py\n",
            "Результат: [[-49.0, 49.0]]\n",
            "Играет counter_pick_agent.py и not_rock_agent.py\n",
            "Результат: [[1, None]]\n",
            "Играет counter_pick_agent.py и not_papper_agent.py\n",
            "Результат: [[1, None]]\n",
            "Играет counter_pick_agent.py и not_scissors_agent.py\n",
            "Результат: [[1, None]]\n",
            "Играет counter_pick_agent.py и random_v1_agent.py\n",
            "Результат: [[1, None]]\n",
            "Играет counter_pick_agent.py и enemy_common_pick_agent.py\n",
            "Результат: [[49.0, -49.0]]\n",
            "Играет counter_pick_agent.py и uncomon_enemy_action_agent.py\n",
            "Результат: [[1, None]]\n",
            "Играет papper_agent.py и rock_agent.py\n",
            "Результат: [[99.0, -99.0]]\n",
            "Играет papper_agent.py и scissors_agent.py\n",
            "Результат: [[-99.0, 99.0]]\n",
            "Играет papper_agent.py и copy_opponent.py\n",
            "Результат: [[1, None]]\n",
            "Играет papper_agent.py и step_by_step_agent.py\n",
            "Результат: [[0, 0]]\n",
            "Играет papper_agent.py и counter_pick_agent.py\n",
            "Результат: [[-97.0, 97.0]]\n",
            "Играет papper_agent.py и random_choose_agent.py\n",
            "Результат: [[1, None]]\n",
            "Играет papper_agent.py и loose_pick_agent.py\n",
            "Результат: [[99.0, -99.0]]\n",
            "Играет papper_agent.py и not_rock_agent.py\n",
            "Результат: [[1, None]]\n",
            "Играет papper_agent.py и not_papper_agent.py\n",
            "Результат: [[1, None]]\n",
            "Играет papper_agent.py и not_scissors_agent.py\n",
            "Результат: [[1, None]]\n",
            "Играет papper_agent.py и random_v1_agent.py\n",
            "Результат: [[1, None]]\n",
            "Играет papper_agent.py и enemy_common_pick_agent.py\n",
            "Результат: [[-98.0, 98.0]]\n",
            "Играет papper_agent.py и uncomon_enemy_action_agent.py\n",
            "Результат: [[1, None]]\n",
            "Играет random_choose_agent.py и rock_agent.py\n",
            "Результат: [[None, 1]]\n",
            "Играет random_choose_agent.py и scissors_agent.py\n",
            "Результат: [[None, 1]]\n",
            "Играет random_choose_agent.py и copy_opponent.py\n",
            "Результат: [[None, None]]\n",
            "Играет random_choose_agent.py и step_by_step_agent.py\n",
            "Результат: [[None, 1]]\n",
            "Играет random_choose_agent.py и counter_pick_agent.py\n",
            "Результат: [[None, 1]]\n",
            "Играет random_choose_agent.py и papper_agent.py\n",
            "Результат: [[None, 1]]\n",
            "Играет random_choose_agent.py и loose_pick_agent.py\n",
            "Результат: [[None, 1]]\n",
            "Играет random_choose_agent.py и not_rock_agent.py\n",
            "Результат: [[None, None]]\n",
            "Играет random_choose_agent.py и not_papper_agent.py\n",
            "Результат: [[None, None]]\n",
            "Играет random_choose_agent.py и not_scissors_agent.py\n",
            "Результат: [[None, None]]\n",
            "Играет random_choose_agent.py и random_v1_agent.py\n",
            "Результат: [[None, None]]\n",
            "Играет random_choose_agent.py и enemy_common_pick_agent.py\n",
            "Результат: [[None, 1]]\n",
            "Играет random_choose_agent.py и uncomon_enemy_action_agent.py\n",
            "Результат: [[None, None]]\n",
            "Играет loose_pick_agent.py и rock_agent.py\n",
            "Результат: [[-98.0, 98.0]]\n",
            "Играет loose_pick_agent.py и scissors_agent.py\n",
            "Результат: [[-97.0, 97.0]]\n",
            "Играет loose_pick_agent.py и copy_opponent.py\n",
            "Результат: [[1, None]]\n",
            "Играет loose_pick_agent.py и step_by_step_agent.py\n",
            "Результат: [[98.0, -98.0]]\n",
            "Играет loose_pick_agent.py и counter_pick_agent.py\n",
            "Результат: [[49.0, -49.0]]\n",
            "Играет loose_pick_agent.py и papper_agent.py\n",
            "Результат: [[-99.0, 99.0]]\n",
            "Играет loose_pick_agent.py и random_choose_agent.py\n",
            "Результат: [[1, None]]\n",
            "Играет loose_pick_agent.py и not_rock_agent.py\n",
            "Результат: [[1, None]]\n",
            "Играет loose_pick_agent.py и not_papper_agent.py\n",
            "Результат: [[1, None]]\n",
            "Играет loose_pick_agent.py и not_scissors_agent.py\n",
            "Результат: [[1, None]]\n",
            "Играет loose_pick_agent.py и random_v1_agent.py\n",
            "Результат: [[1, None]]\n",
            "Играет loose_pick_agent.py и enemy_common_pick_agent.py\n",
            "Результат: [[-99.0, 99.0]]\n",
            "Играет loose_pick_agent.py и uncomon_enemy_action_agent.py\n",
            "Результат: [[1, None]]\n",
            "Играет not_rock_agent.py и rock_agent.py\n",
            "Результат: [[None, 1]]\n",
            "Играет not_rock_agent.py и scissors_agent.py\n",
            "Результат: [[None, 1]]\n",
            "Играет not_rock_agent.py и copy_opponent.py\n",
            "Результат: [[None, None]]\n",
            "Играет not_rock_agent.py и step_by_step_agent.py\n",
            "Результат: [[None, 1]]\n",
            "Играет not_rock_agent.py и counter_pick_agent.py\n",
            "Результат: [[None, 1]]\n",
            "Играет not_rock_agent.py и papper_agent.py\n",
            "Результат: [[None, 1]]\n",
            "Играет not_rock_agent.py и random_choose_agent.py\n",
            "Результат: [[None, None]]\n",
            "Играет not_rock_agent.py и loose_pick_agent.py\n",
            "Результат: [[None, 1]]\n",
            "Играет not_rock_agent.py и not_papper_agent.py\n",
            "Результат: [[None, None]]\n",
            "Играет not_rock_agent.py и not_scissors_agent.py\n",
            "Результат: [[None, None]]\n",
            "Играет not_rock_agent.py и random_v1_agent.py\n",
            "Результат: [[None, None]]\n",
            "Играет not_rock_agent.py и enemy_common_pick_agent.py\n",
            "Результат: [[None, 1]]\n",
            "Играет not_rock_agent.py и uncomon_enemy_action_agent.py\n",
            "Результат: [[None, None]]\n",
            "Играет not_papper_agent.py и rock_agent.py\n",
            "Результат: [[None, 1]]\n",
            "Играет not_papper_agent.py и scissors_agent.py\n",
            "Результат: [[None, 1]]\n",
            "Играет not_papper_agent.py и copy_opponent.py\n",
            "Результат: [[None, None]]\n",
            "Играет not_papper_agent.py и step_by_step_agent.py\n",
            "Результат: [[None, 1]]\n",
            "Играет not_papper_agent.py и counter_pick_agent.py\n",
            "Результат: [[None, 1]]\n",
            "Играет not_papper_agent.py и papper_agent.py\n",
            "Результат: [[None, 1]]\n",
            "Играет not_papper_agent.py и random_choose_agent.py\n",
            "Результат: [[None, None]]\n",
            "Играет not_papper_agent.py и loose_pick_agent.py\n",
            "Результат: [[None, 1]]\n",
            "Играет not_papper_agent.py и not_rock_agent.py\n",
            "Результат: [[None, None]]\n",
            "Играет not_papper_agent.py и not_scissors_agent.py\n",
            "Результат: [[None, None]]\n",
            "Играет not_papper_agent.py и random_v1_agent.py\n",
            "Результат: [[None, None]]\n",
            "Играет not_papper_agent.py и enemy_common_pick_agent.py\n",
            "Результат: [[None, 1]]\n",
            "Играет not_papper_agent.py и uncomon_enemy_action_agent.py\n",
            "Результат: [[None, None]]\n",
            "Играет not_scissors_agent.py и rock_agent.py\n",
            "Результат: [[None, 1]]\n",
            "Играет not_scissors_agent.py и scissors_agent.py\n",
            "Результат: [[None, 1]]\n",
            "Играет not_scissors_agent.py и copy_opponent.py\n",
            "Результат: [[None, None]]\n",
            "Играет not_scissors_agent.py и step_by_step_agent.py\n",
            "Результат: [[None, 1]]\n",
            "Играет not_scissors_agent.py и counter_pick_agent.py\n",
            "Результат: [[None, 1]]\n",
            "Играет not_scissors_agent.py и papper_agent.py\n",
            "Результат: [[None, 1]]\n",
            "Играет not_scissors_agent.py и random_choose_agent.py\n",
            "Результат: [[None, None]]\n",
            "Играет not_scissors_agent.py и loose_pick_agent.py\n",
            "Результат: [[None, 1]]\n",
            "Играет not_scissors_agent.py и not_rock_agent.py\n",
            "Результат: [[None, None]]\n",
            "Играет not_scissors_agent.py и not_papper_agent.py\n",
            "Результат: [[None, None]]\n",
            "Играет not_scissors_agent.py и random_v1_agent.py\n",
            "Результат: [[None, None]]\n",
            "Играет not_scissors_agent.py и enemy_common_pick_agent.py\n",
            "Результат: [[None, 1]]\n",
            "Играет not_scissors_agent.py и uncomon_enemy_action_agent.py\n",
            "Результат: [[None, None]]\n",
            "Играет random_v1_agent.py и rock_agent.py\n",
            "Результат: [[None, 1]]\n",
            "Играет random_v1_agent.py и scissors_agent.py\n",
            "Результат: [[None, 1]]\n",
            "Играет random_v1_agent.py и copy_opponent.py\n",
            "Результат: [[None, None]]\n",
            "Играет random_v1_agent.py и step_by_step_agent.py\n",
            "Результат: [[None, 1]]\n",
            "Играет random_v1_agent.py и counter_pick_agent.py\n",
            "Результат: [[None, 1]]\n",
            "Играет random_v1_agent.py и papper_agent.py\n",
            "Результат: [[None, 1]]\n",
            "Играет random_v1_agent.py и random_choose_agent.py\n",
            "Результат: [[None, None]]\n",
            "Играет random_v1_agent.py и loose_pick_agent.py\n",
            "Результат: [[None, 1]]\n",
            "Играет random_v1_agent.py и not_rock_agent.py\n",
            "Результат: [[None, None]]\n",
            "Играет random_v1_agent.py и not_papper_agent.py\n",
            "Результат: [[None, None]]\n",
            "Играет random_v1_agent.py и not_scissors_agent.py\n",
            "Результат: [[None, None]]\n",
            "Играет random_v1_agent.py и enemy_common_pick_agent.py\n",
            "Результат: [[None, 1]]\n",
            "Играет random_v1_agent.py и uncomon_enemy_action_agent.py\n",
            "Результат: [[None, None]]\n",
            "Играет enemy_common_pick_agent.py и rock_agent.py\n",
            "Результат: [[99.0, -99.0]]\n",
            "Играет enemy_common_pick_agent.py и scissors_agent.py\n",
            "Результат: [[97.0, -97.0]]\n",
            "Играет enemy_common_pick_agent.py и copy_opponent.py\n",
            "Результат: [[1, None]]\n",
            "Играет enemy_common_pick_agent.py и step_by_step_agent.py\n",
            "Результат: [[0, 0]]\n",
            "Играет enemy_common_pick_agent.py и counter_pick_agent.py\n",
            "Результат: [[-49.0, 49.0]]\n",
            "Играет enemy_common_pick_agent.py и papper_agent.py\n",
            "Результат: [[98.0, -98.0]]\n",
            "Играет enemy_common_pick_agent.py и random_choose_agent.py\n",
            "Результат: [[1, None]]\n",
            "Играет enemy_common_pick_agent.py и loose_pick_agent.py\n",
            "Результат: [[99.0, -99.0]]\n",
            "Играет enemy_common_pick_agent.py и not_rock_agent.py\n",
            "Результат: [[1, None]]\n",
            "Играет enemy_common_pick_agent.py и not_papper_agent.py\n",
            "Результат: [[1, None]]\n",
            "Играет enemy_common_pick_agent.py и not_scissors_agent.py\n",
            "Результат: [[1, None]]\n",
            "Играет enemy_common_pick_agent.py и random_v1_agent.py\n",
            "Результат: [[1, None]]\n",
            "Играет enemy_common_pick_agent.py и uncomon_enemy_action_agent.py\n",
            "Результат: [[1, None]]\n",
            "Играет uncomon_enemy_action_agent.py и rock_agent.py\n",
            "Результат: [[None, 1]]\n",
            "Играет uncomon_enemy_action_agent.py и scissors_agent.py\n",
            "Результат: [[None, 1]]\n",
            "Играет uncomon_enemy_action_agent.py и copy_opponent.py\n",
            "Результат: [[None, None]]\n",
            "Играет uncomon_enemy_action_agent.py и step_by_step_agent.py\n",
            "Результат: [[None, 1]]\n",
            "Играет uncomon_enemy_action_agent.py и counter_pick_agent.py\n",
            "Результат: [[None, 1]]\n",
            "Играет uncomon_enemy_action_agent.py и papper_agent.py\n",
            "Результат: [[None, 1]]\n",
            "Играет uncomon_enemy_action_agent.py и random_choose_agent.py\n",
            "Результат: [[None, None]]\n",
            "Играет uncomon_enemy_action_agent.py и loose_pick_agent.py\n",
            "Результат: [[None, 1]]\n",
            "Играет uncomon_enemy_action_agent.py и not_rock_agent.py\n",
            "Результат: [[None, None]]\n",
            "Играет uncomon_enemy_action_agent.py и not_papper_agent.py\n",
            "Результат: [[None, None]]\n",
            "Играет uncomon_enemy_action_agent.py и not_scissors_agent.py\n",
            "Результат: [[None, None]]\n",
            "Играет uncomon_enemy_action_agent.py и random_v1_agent.py\n",
            "Результат: [[None, None]]\n",
            "Играет uncomon_enemy_action_agent.py и enemy_common_pick_agent.py\n",
            "Результат: [[None, 1]]\n"
          ]
        }
      ]
    }
  ]
}